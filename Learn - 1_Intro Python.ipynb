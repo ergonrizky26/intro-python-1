{
 "cells": [
  {
   "cell_type": "markdown",
   "metadata": {},
   "source": [
    "## Standarisasi Kode Python : Case Sensitive"
   ]
  },
  {
   "cell_type": "code",
   "execution_count": 6,
   "metadata": {},
   "outputs": [
    {
     "name": "stdout",
     "output_type": "stream",
     "text": [
      "Belajar Python Dasar\n",
      "Belajar Python dan Aplikasinya\n"
     ]
    }
   ],
   "source": [
    "# Penulisan nama variabel pada Python sifatnya Case Sensitive (j dengan J berbeda)\n",
    "judul = \"Belajar Python Dasar\"\n",
    "Judul = \"Belajar Python dan Aplikasinya\"\n",
    "\n",
    "print(judul)\n",
    "print(Judul)"
   ]
  },
  {
   "cell_type": "markdown",
   "metadata": {},
   "source": [
    "## Variable and Data Type"
   ]
  },
  {
   "cell_type": "markdown",
   "metadata": {},
   "source": [
    "- **Variabel** merupakan tempat menyimpan data\n",
    "- **Tipe Data** adalah jenis data yang tersimpan dalam variabel"
   ]
  },
  {
   "cell_type": "markdown",
   "metadata": {},
   "source": [
    "### Variable"
   ]
  },
  {
   "cell_type": "code",
   "execution_count": 7,
   "metadata": {},
   "outputs": [
    {
     "name": "stdout",
     "output_type": "stream",
     "text": [
      "Buku Pemrograman Python\n"
     ]
    }
   ],
   "source": [
    "judul_buku = \"Buku Pemrograman Python\"\n",
    "print(judul_buku)"
   ]
  },
  {
   "cell_type": "markdown",
   "metadata": {},
   "source": [
    "### Data Types"
   ]
  },
  {
   "cell_type": "code",
   "execution_count": 10,
   "metadata": {},
   "outputs": [
    {
     "name": "stdout",
     "output_type": "stream",
     "text": [
      "<class 'str'>\n",
      "<class 'str'>\n",
      "<class 'int'>\n",
      "Bejo\n",
      "Pria\n",
      "15\n"
     ]
    }
   ],
   "source": [
    "nama = \"Bejo\"\n",
    "jenis_kelamin = \"Pria\" \n",
    "umur = 15\n",
    "\n",
    "print(type(nama))\n",
    "print(type(jenis_kelamin))\n",
    "print(type(umur))\n",
    "\n",
    "print(nama)\n",
    "print(jenis_kelamin)\n",
    "print(umur)"
   ]
  },
  {
   "cell_type": "code",
   "execution_count": 11,
   "metadata": {},
   "outputs": [
    {
     "name": "stdout",
     "output_type": "stream",
     "text": [
      "True is of <class 'bool'>\n",
      "-7 is of <class 'int'>\n",
      "12.78 is of <class 'float'>\n",
      "Training is of <class 'str'>\n",
      "None is of <class 'NoneType'>\n"
     ]
    }
   ],
   "source": [
    "a = True \n",
    "print(a, \"is of\", type(a))\n",
    "\n",
    "i = -7\n",
    "print(i, \"is of\", type(i))\n",
    "\n",
    "x = 12.78\n",
    "print(x, \"is of\", type(x))\n",
    "\n",
    "s = \"Training\"\n",
    "print(s, \"is of\", type(s))\n",
    "\n",
    "z = None\n",
    "print(z, \"is of\", type(z))"
   ]
  },
  {
   "cell_type": "code",
   "execution_count": 12,
   "metadata": {},
   "outputs": [
    {
     "name": "stdout",
     "output_type": "stream",
     "text": [
      "Nama: Bejo\n",
      "Jenis Kelamin: Pria\n",
      "Umur: 15\n",
      "Tinggi: 180\n",
      "Status belum menikah\n"
     ]
    }
   ],
   "source": [
    "nama = \"Bejo\"\n",
    "jenis_kelamin = \"Pria\" \n",
    "umur = 15\n",
    "tinggi = 180\n",
    "menikah = False \n",
    "\n",
    "# cetak isi variabel\n",
    "print(\"Nama:\", nama)\n",
    "print(\"Jenis Kelamin:\", jenis_kelamin)\n",
    "print(\"Umur:\", umur)\n",
    "print(\"Tinggi:\", tinggi)\n",
    "\n",
    "if(menikah):\n",
    "    print(\"Status sudah menikah\")\n",
    "else:\n",
    "    print(\"Status belum menikah\")"
   ]
  },
  {
   "cell_type": "markdown",
   "metadata": {},
   "source": [
    "## TypeCasting"
   ]
  },
  {
   "cell_type": "markdown",
   "metadata": {},
   "source": [
    "**Typecasting** adalah sebuah teknik untuk merubah suatu jenis data ke jenis lainnya (seperti dari string ke interger). Terdapat 2 cara dalam mengkonversi tipe data:\n",
    "- Konversi secara implisit (otomatis)\n",
    "- Konversi secara eksplisit (manual)"
   ]
  },
  {
   "cell_type": "markdown",
   "metadata": {},
   "source": [
    "### Model Implisit"
   ]
  },
  {
   "cell_type": "markdown",
   "metadata": {},
   "source": [
    "**Model Implisit** adalah proses pengkonversian tipe data yang terjadi secara otomatis dibalik layar, tanpa perlu kita instruksi secara langsung."
   ]
  },
  {
   "cell_type": "code",
   "execution_count": 14,
   "metadata": {},
   "outputs": [
    {
     "name": "stdout",
     "output_type": "stream",
     "text": [
      "5.0\n",
      "<class 'float'>\n"
     ]
    }
   ],
   "source": [
    "# Hasil dari operasi pembagian antar 2 bilangan akan otomatis dikonversi menjadi tipe data 'float' \n",
    "b = 10/2\n",
    "print(b)\n",
    "print(type(b))"
   ]
  },
  {
   "cell_type": "code",
   "execution_count": 18,
   "metadata": {},
   "outputs": [
    {
     "name": "stdout",
     "output_type": "stream",
     "text": [
      "jeruk jeruk jeruk jeruk jeruk \n",
      "<class 'str'>\n"
     ]
    }
   ],
   "source": [
    "# Perkalian antara string dan integer akan menghasilkan sebuah 'string' \n",
    "kata = \"jeruk \" * 5\n",
    "\n",
    "print(kata)\n",
    "print(type(kata))"
   ]
  },
  {
   "cell_type": "markdown",
   "metadata": {},
   "source": [
    "### Model Eksplisit"
   ]
  },
  {
   "cell_type": "markdown",
   "metadata": {},
   "source": [
    "Tidak semua operasi dari tipe data yang berbeda bisa dikonversi dengan benar beberapa di antaranya menghasilkan error. Proses konversi yang dinamakan sebagai tipe data casting secara eksplisit. \n",
    "Untuk melakukannya, bisa dengan menggunakan built-in function."
   ]
  },
  {
   "cell_type": "code",
   "execution_count": 19,
   "metadata": {},
   "outputs": [
    {
     "data": {
      "text/plain": [
       "8"
      ]
     },
     "execution_count": 19,
     "metadata": {},
     "output_type": "execute_result"
    }
   ],
   "source": [
    "int(8.21)"
   ]
  },
  {
   "cell_type": "code",
   "execution_count": 20,
   "metadata": {},
   "outputs": [
    {
     "data": {
      "text/plain": [
       "9.0"
      ]
     },
     "execution_count": 20,
     "metadata": {},
     "output_type": "execute_result"
    }
   ],
   "source": [
    "float(9)"
   ]
  },
  {
   "cell_type": "code",
   "execution_count": 21,
   "metadata": {},
   "outputs": [
    {
     "data": {
      "text/plain": [
       "'1'"
      ]
     },
     "execution_count": 21,
     "metadata": {},
     "output_type": "execute_result"
    }
   ],
   "source": [
    "str(1)"
   ]
  },
  {
   "cell_type": "code",
   "execution_count": 22,
   "metadata": {},
   "outputs": [
    {
     "data": {
      "text/plain": [
       "123"
      ]
     },
     "execution_count": 22,
     "metadata": {},
     "output_type": "execute_result"
    }
   ],
   "source": [
    "int('123')"
   ]
  },
  {
   "cell_type": "code",
   "execution_count": 23,
   "metadata": {},
   "outputs": [
    {
     "data": {
      "text/plain": [
       "True"
      ]
     },
     "execution_count": 23,
     "metadata": {},
     "output_type": "execute_result"
    }
   ],
   "source": [
    "bool(\"Benar\")"
   ]
  },
  {
   "cell_type": "code",
   "execution_count": null,
   "metadata": {},
   "outputs": [],
   "source": []
  }
 ],
 "metadata": {
  "kernelspec": {
   "display_name": "Python 3.6.5 ('base')",
   "language": "python",
   "name": "python3"
  },
  "language_info": {
   "codemirror_mode": {
    "name": "ipython",
    "version": 3
   },
   "file_extension": ".py",
   "mimetype": "text/x-python",
   "name": "python",
   "nbconvert_exporter": "python",
   "pygments_lexer": "ipython3",
   "version": "3.6.5"
  },
  "orig_nbformat": 4,
  "vscode": {
   "interpreter": {
    "hash": "a16b37e41e9e475239b8004b813518e872d30bc6d8afec26161b151cc1e6c607"
   }
  }
 },
 "nbformat": 4,
 "nbformat_minor": 2
}
